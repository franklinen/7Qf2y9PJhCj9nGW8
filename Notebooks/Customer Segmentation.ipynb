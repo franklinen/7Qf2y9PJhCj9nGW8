{
 "cells": [
  {
   "cell_type": "code",
   "execution_count": null,
   "id": "3c0bfe2e",
   "metadata": {},
   "outputs": [],
   "source": [
    "#### Customer Segmentation"
   ]
  },
  {
   "cell_type": "code",
   "execution_count": null,
   "id": "5dbcbe72",
   "metadata": {},
   "outputs": [],
   "source": [
    "#import pandas as pd\n",
    "#import matplotlib.pyplot as plt\n",
    "from sklearn.cluster import KMeans"
   ]
  },
  {
   "cell_type": "code",
   "execution_count": null,
   "id": "5aea0738",
   "metadata": {},
   "outputs": [],
   "source": [
    "# Extract features for K-means clustering. The chosen features are basd on feature importance\n",
    "X = df[['age', 'marital', 'balance', 'housing', 'contact', 'month', 'duration']]"
   ]
  },
  {
   "cell_type": "code",
   "execution_count": null,
   "id": "f954fa93",
   "metadata": {},
   "outputs": [],
   "source": [
    "# Calculate inertia (sum of squared distances) for different values of k\n",
    "inertia = []\n",
    "for k in range(2, 11):\n",
    "    kmeans = KMeans(n_clusters=k, n_init= 10, random_state=42)\n",
    "    kmeans.fit(X)\n",
    "    inertia.append(kmeans.inertia_)\n",
    "\n",
    "# Plot the elbow curve\n",
    "plt.figure(figsize=(8, 6),dpi=150)\n",
    "plt.plot(range(2, 11), inertia, marker='o')\n",
    "plt.xlabel('Number of Clusters (k)')\n",
    "plt.ylabel('Inertia')\n",
    "plt.title('Elbow Curve for K-means Clustering')\n",
    "plt.grid(True)\n",
    "plt.show()"
   ]
  },
  {
   "cell_type": "code",
   "execution_count": null,
   "id": "30647a48",
   "metadata": {},
   "outputs": [],
   "source": [
    "# Perform K-means clustering with best K\n",
    "best_kmeans = KMeans(n_clusters=5, n_init=10, random_state=42)\n",
    "df['Cluster'] = best_kmeans.fit_predict(X)"
   ]
  },
  {
   "cell_type": "code",
   "execution_count": null,
   "id": "07543047",
   "metadata": {},
   "outputs": [],
   "source": [
    "# Group by cluster and calculate mean values\n",
    "cluster_summary = df.groupby('Cluster').agg({\n",
    "    'age': 'mean',\n",
    "    'balance': 'mean',\n",
    "    'contact': 'mean',\n",
    "    'duration': 'mean',\n",
    "    'marital': 'max',\n",
    "    'month': 'max',\n",
    "}).reset_index()"
   ]
  },
  {
   "cell_type": "code",
   "execution_count": null,
   "id": "45d338c7",
   "metadata": {},
   "outputs": [],
   "source": [
    "#'age', 'marital', 'balance', 'housing', 'contact', 'month', 'duration'"
   ]
  },
  {
   "cell_type": "code",
   "execution_count": null,
   "id": "a8621e80",
   "metadata": {},
   "outputs": [],
   "source": [
    "print(cluster_summary)"
   ]
  },
  {
   "cell_type": "code",
   "execution_count": null,
   "id": "83be949b",
   "metadata": {},
   "outputs": [],
   "source": [
    "colors = ['#3498db', '#2ecc71', '#f39c12','#C9B1BD']\n",
    "\n",
    "# Plot the average RFM scores for each cluster\n",
    "plt.figure(figsize=(10, 8),dpi=150)\n",
    "\n",
    "# Plot Avg Age\n",
    "plt.subplot(3, 1, 1)\n",
    "bars = plt.bar(cluster_summary.index, cluster_summary['age'], color=colors)\n",
    "plt.xlabel('Cluster')\n",
    "plt.ylabel('Avg Age')\n",
    "plt.title('Average Age for Each Cluster')\n",
    "\n",
    "plt.grid(True, linestyle='--', alpha=0.5)\n",
    "plt.legend(bars, cluster_summary.index, title='Clusters')\n",
    "\n",
    "# Plot Avg balance\n",
    "plt.subplot(3, 1, 2)\n",
    "bars = plt.bar(cluster_summary.index, cluster_summary['balance'], color=colors)\n",
    "plt.xlabel('Cluster')\n",
    "plt.ylabel('Avg balance')\n",
    "plt.title('Average balance for Each Cluster')\n",
    "plt.grid(True, linestyle='--', alpha=0.5)\n",
    "plt.legend(bars, cluster_summary.index, title='Clusters')\n",
    "\n",
    "# Plot Avg duration\n",
    "plt.subplot(3, 1, 3)\n",
    "bars = plt.bar(cluster_summary.index, cluster_summary['duration'], color=colors)\n",
    "plt.xlabel('Cluster')\n",
    "plt.ylabel('Avg duration')\n",
    "plt.title('Average duration Value for Each Cluster')\n",
    "plt.grid(True, linestyle='--', alpha=0.5)\n",
    "plt.legend(bars, cluster_summary.index, title='Clusters')\n",
    "\n",
    "# Plot Avg contact\n",
    "plt.subplot(3, 1, 2)\n",
    "bars = plt.bar(cluster_summary.index, cluster_summary['contact'], color=colors)\n",
    "plt.xlabel('Cluster')\n",
    "plt.ylabel('Avg contact')\n",
    "plt.title('Average contact for Each Cluster')\n",
    "plt.grid(True, linestyle='--', alpha=0.5)\n",
    "plt.legend(bars, cluster_summary.index, title='Clusters')\n",
    "\n",
    "plt.tight_layout()\n",
    "plt.show()"
   ]
  },
  {
   "cell_type": "code",
   "execution_count": null,
   "id": "26e281a8",
   "metadata": {},
   "outputs": [],
   "source": []
  },
  {
   "cell_type": "code",
   "execution_count": null,
   "id": "c85ab715",
   "metadata": {},
   "outputs": [],
   "source": []
  }
 ],
 "metadata": {
  "kernelspec": {
   "display_name": "Python 3 (ipykernel)",
   "language": "python",
   "name": "python3"
  },
  "language_info": {
   "codemirror_mode": {
    "name": "ipython",
    "version": 3
   },
   "file_extension": ".py",
   "mimetype": "text/x-python",
   "name": "python",
   "nbconvert_exporter": "python",
   "pygments_lexer": "ipython3",
   "version": "3.9.7"
  }
 },
 "nbformat": 4,
 "nbformat_minor": 5
}
